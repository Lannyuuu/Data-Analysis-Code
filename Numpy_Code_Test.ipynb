{
 "cells": [
  {
   "cell_type": "code",
   "execution_count": 1,
   "id": "9be6fa0a-6e24-4d71-aa8f-c5dab0031e10",
   "metadata": {},
   "outputs": [],
   "source": [
    "import numpy as np"
   ]
  },
  {
   "cell_type": "code",
   "execution_count": 6,
   "id": "1c3ce109-3a8b-422e-8bab-e509098b8f3f",
   "metadata": {},
   "outputs": [],
   "source": [
    "#数组\n",
    "a = np.array([1,2,3])\n",
    "b = np.array([[1,2],[3,4]])\n",
    "\n",
    "#全0数组:zeros\n",
    "zeros = np.zeros((3,4))\n",
    "#全1数组：ones\n",
    "ones = np.ones((2,3))\n",
    "#未初始化数组：empty\n",
    "empty = np.empty((2,2))\n",
    "#类似range的数组:arrange\n",
    "arange = np.arange(10)\n",
    "#等间隔数组:linespace"
   ]
  },
  {
   "cell_type": "code",
   "execution_count": 8,
   "id": "bf157c32-f7de-4c94-a396-52434375a121",
   "metadata": {},
   "outputs": [
    {
     "name": "stdout",
     "output_type": "stream",
     "text": [
      "2\n",
      "(2, 3)\n",
      "6\n",
      "int32\n",
      "4\n"
     ]
    }
   ],
   "source": [
    "arr = np.array([[1,2,3],[4,5,6]])\n",
    "print(arr.ndim) #维度：ndim\n",
    "print(arr.shape) #形状\n",
    "print(arr.size) #元素总数\n",
    "print(arr.dtype) #数据类型\n",
    "print(arr.itemsize) #每个元素字节的大小"
   ]
  },
  {
   "cell_type": "code",
   "execution_count": 9,
   "id": "fc183c20-ad56-4aed-a7ed-34b95a91cbf9",
   "metadata": {},
   "outputs": [
    {
     "name": "stdout",
     "output_type": "stream",
     "text": [
      "2\n",
      "[1 2 3]\n",
      "[0 2 4]\n",
      "6\n",
      "[2 5]\n"
     ]
    }
   ],
   "source": [
    "arr = np.array([0, 1, 2, 3, 4, 5])\n",
    "\n",
    "print(arr[2])      # 索引 → 2\n",
    "print(arr[1:4])    # 切片 → [1 2 3]\n",
    "print(arr[::2])    # 步长 → [0 2 4]\n",
    "\n",
    "# 多维数组索引\n",
    "arr2d = np.array([[1, 2, 3], [4, 5, 6]])\n",
    "print(arr2d[1, 2])  # → 6\n",
    "print(arr2d[:, 1])  # 所有行的第2列 → [2 5]"
   ]
  },
  {
   "cell_type": "code",
   "execution_count": 10,
   "id": "c3bde5a9-99dd-497f-8528-62ff7100c8b4",
   "metadata": {},
   "outputs": [
    {
     "name": "stdout",
     "output_type": "stream",
     "text": [
      "[[0 1 2]\n",
      " [3 4 5]]\n",
      "[0 1 2 3 4 5]\n",
      "[0 1 2 3 4 5]\n"
     ]
    }
   ],
   "source": [
    "arr = np.arange(6)\n",
    "#(行，列)\n",
    "print(arr.reshape(2, 3))  # 改变形状\n",
    "print(arr.flatten())      # 展平为一维\n",
    "print(arr.T)              # 转置"
   ]
  },
  {
   "cell_type": "code",
   "execution_count": 11,
   "id": "44418eea-8971-43c1-9286-ef93fe739fd3",
   "metadata": {},
   "outputs": [
    {
     "name": "stdout",
     "output_type": "stream",
     "text": [
      "[5 7 9]\n",
      "[ 4 10 18]\n",
      "32\n",
      "32\n"
     ]
    }
   ],
   "source": [
    "a = np.array([1, 2, 3])\n",
    "b = np.array([4, 5, 6])\n",
    "\n",
    "print(a + b)   # 逐元素相加 → [5 7 9]\n",
    "print(a * b)   # 逐元素相乘 → [4 10 18]\n",
    "print(a @ b)   # 点积 → 32\n",
    "print(np.dot(a, b))  # 同上"
   ]
  },
  {
   "cell_type": "code",
   "execution_count": 12,
   "id": "d69e58f1-1f02-4bb6-903e-da6726417d57",
   "metadata": {},
   "outputs": [
    {
     "name": "stdout",
     "output_type": "stream",
     "text": [
      "[1.04880885 1.4832397  1.81659021]\n",
      "[ 3.00416602  9.0250135  27.11263892]\n",
      "[ 0.89120736  0.8084964  -0.15774569]\n",
      "[0.09531018 0.78845736 1.19392247]\n",
      "[1. 2. 3.]\n"
     ]
    }
   ],
   "source": [
    "arr = np.array([1.1, 2.2, 3.3])\n",
    "\n",
    "print(np.sqrt(arr))    # 平方根\n",
    "print(np.exp(arr))    # 指数\n",
    "print(np.sin(arr))    # 正弦\n",
    "print(np.log(arr))    # 自然对数\n",
    "print(np.round(arr))  # 四舍五入 → [1. 2. 3.] 小数部分去掉，但是还是有小数点"
   ]
  },
  {
   "cell_type": "code",
   "execution_count": 13,
   "id": "c7b79d26-e09a-4230-92be-c87d2140bde1",
   "metadata": {},
   "outputs": [
    {
     "name": "stdout",
     "output_type": "stream",
     "text": [
      "10\n",
      "2.5\n",
      "4\n",
      "1\n",
      "1.118033988749895\n",
      "1.25\n",
      "2.5\n",
      "2.5\n"
     ]
    }
   ],
   "source": [
    "arr = np.array([[1, 2], [3, 4]])\n",
    "\n",
    "print(np.sum(arr))       # 总和 → 10\n",
    "print(np.mean(arr))      # 平均值 → 2.5\n",
    "print(np.max(arr))       # 最大值 → 4\n",
    "print(np.min(arr))       # 最小值 → 1\n",
    "print(np.std(arr))       # 标准差\n",
    "print(np.var(arr))       # 方差\n",
    "print(np.median(arr))    # 中位数\n",
    "print(np.percentile(arr, 50))  # 百分位数"
   ]
  },
  {
   "cell_type": "code",
   "execution_count": 14,
   "id": "41b785b1-f45b-4753-ab02-b1ae9d73f0f8",
   "metadata": {},
   "outputs": [
    {
     "name": "stdout",
     "output_type": "stream",
     "text": [
      "[[19 22]\n",
      " [43 50]]\n",
      "[[-2.   1. ]\n",
      " [ 1.5 -0.5]]\n",
      "-2.0000000000000004\n",
      "EigResult(eigenvalues=array([-0.37228132,  5.37228132]), eigenvectors=array([[-0.82456484, -0.41597356],\n",
      "       [ 0.56576746, -0.90937671]]))\n"
     ]
    }
   ],
   "source": [
    "a = np.array([[1, 2], [3, 4]])\n",
    "b = np.array([[5, 6], [7, 8]])\n",
    "\n",
    "print(np.matmul(a, b))  # 矩阵乘法\n",
    "print(np.linalg.inv(a))  # 矩阵求逆\n",
    "print(np.linalg.det(a))  # 行列式\n",
    "print(np.linalg.eig(a))  # 特征值和特征向量"
   ]
  },
  {
   "cell_type": "code",
   "execution_count": 15,
   "id": "6b983f8e-a9d9-4064-b586-a4ccaea85cc6",
   "metadata": {},
   "outputs": [
    {
     "name": "stdout",
     "output_type": "stream",
     "text": [
      "[0.37454012 0.95071431 0.73199394]\n",
      "[-1.11188012  0.31890218  0.27904129]\n",
      "[7 2 5 4 1]\n",
      "[ 1.01051528  0.23309524  0.11799461  1.46237812  1.53871497 -2.43910582\n",
      "  0.60344123 -0.25104397 -0.16386712 -1.47632969]\n"
     ]
    }
   ],
   "source": [
    "# 设置随机种子\n",
    "np.random.seed(42)\n",
    "\n",
    "# 生成随机数\n",
    "print(np.random.rand(3))       # [0,1)均匀分布\n",
    "print(np.random.randn(3))      # 标准正态分布\n",
    "print(np.random.randint(0, 10, size=5))  # 整数随机数\n",
    "print(np.random.normal(0, 1, 10))  # 正态分布"
   ]
  },
  {
   "cell_type": "code",
   "execution_count": 16,
   "id": "34a6118f-4052-4f18-87ab-b9ab31fa8a1d",
   "metadata": {},
   "outputs": [
    {
     "name": "stdout",
     "output_type": "stream",
     "text": [
      "[1 2 3 4 5 6]\n",
      "[[1 2 3]\n",
      " [4 5 6]]\n",
      "[1 2 3 4 5 6]\n",
      "[array([[0, 1, 2]]), array([[3, 4, 5]]), array([[6, 7, 8]])]\n",
      "[array([[0, 1, 2]]), array([[3, 4, 5]]), array([[6, 7, 8]])]\n",
      "[array([[0],\n",
      "       [3],\n",
      "       [6]]), array([[1],\n",
      "       [4],\n",
      "       [7]]), array([[2],\n",
      "       [5],\n",
      "       [8]])]\n"
     ]
    }
   ],
   "source": [
    "a = np.array([1, 2, 3])\n",
    "b = np.array([4, 5, 6])\n",
    "\n",
    "# 拼接\n",
    "print(np.concatenate([a, b]))  # [1 2 3 4 5 6]\n",
    "print(np.vstack([a, b]))      # 垂直堆叠\n",
    "print(np.hstack([a, b]))      # 水平堆叠\n",
    "\n",
    "# 分割\n",
    "arr = np.arange(9).reshape(3, 3)\n",
    "print(np.split(arr, 3))       # 均等分割\n",
    "print(np.vsplit(arr, 3))      # 垂直分割\n",
    "print(np.hsplit(arr, 3))      # 水平分割"
   ]
  },
  {
   "cell_type": "code",
   "execution_count": null,
   "id": "d1f1664b-db27-46e4-97a7-67308d250b47",
   "metadata": {},
   "outputs": [],
   "source": []
  }
 ],
 "metadata": {
  "kernelspec": {
   "display_name": "Python 3 (ipykernel)",
   "language": "python",
   "name": "python3"
  },
  "language_info": {
   "codemirror_mode": {
    "name": "ipython",
    "version": 3
   },
   "file_extension": ".py",
   "mimetype": "text/x-python",
   "name": "python",
   "nbconvert_exporter": "python",
   "pygments_lexer": "ipython3",
   "version": "3.12.3"
  }
 },
 "nbformat": 4,
 "nbformat_minor": 5
}
